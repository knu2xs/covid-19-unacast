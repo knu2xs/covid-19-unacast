{
 "cells": [
  {
   "cell_type": "code",
   "execution_count": 1,
   "metadata": {},
   "outputs": [],
   "source": [
    "from arcgis.gis import GIS\n",
    "from arcgis.features import GeoAccessor\n",
    "from ba_tools import data"
   ]
  },
  {
   "cell_type": "code",
   "execution_count": 2,
   "metadata": {},
   "outputs": [],
   "source": [
    "gis = GIS()"
   ]
  },
  {
   "cell_type": "code",
   "execution_count": 3,
   "metadata": {},
   "outputs": [],
   "source": [
    "itm_id = '7566e0221e5646f99ea249a197116605'"
   ]
  },
  {
   "cell_type": "code",
   "execution_count": 7,
   "metadata": {},
   "outputs": [],
   "source": [
    "cty_lyr = gis.content.get(itm_id).layers[0]"
   ]
  },
  {
   "cell_type": "code",
   "execution_count": 14,
   "metadata": {},
   "outputs": [
    {
     "name": "stdout",
     "output_type": "stream",
     "text": [
      "Wall time: 3.36 s\n"
     ]
    }
   ],
   "source": [
    "%%time\n",
    "cty_df = cty_lyr.query(out_fields=['FIPS'], out_sr=4326, as_df=True)\n",
    "cty_df.set_index(['FIPS'], inplace=True)\n",
    "cty_srs = cty_df['SHAPE']"
   ]
  },
  {
   "cell_type": "code",
   "execution_count": 13,
   "metadata": {},
   "outputs": [
    {
     "data": {
      "text/html": [
       "<div>\n",
       "<style scoped>\n",
       "    .dataframe tbody tr th:only-of-type {\n",
       "        vertical-align: middle;\n",
       "    }\n",
       "\n",
       "    .dataframe tbody tr th {\n",
       "        vertical-align: top;\n",
       "    }\n",
       "\n",
       "    .dataframe thead th {\n",
       "        text-align: right;\n",
       "    }\n",
       "</style>\n",
       "<table border=\"1\" class=\"dataframe\">\n",
       "  <thead>\n",
       "    <tr style=\"text-align: right;\">\n",
       "      <th></th>\n",
       "      <th>FID</th>\n",
       "      <th>SHAPE</th>\n",
       "    </tr>\n",
       "    <tr>\n",
       "      <th>FIPS</th>\n",
       "      <th></th>\n",
       "      <th></th>\n",
       "    </tr>\n",
       "  </thead>\n",
       "  <tbody>\n",
       "    <tr>\n",
       "      <th>02013</th>\n",
       "      <td>1</td>\n",
       "      <td>{'rings': [[[-158.798407913421, 56.80097191520...</td>\n",
       "    </tr>\n",
       "    <tr>\n",
       "      <th>38097</th>\n",
       "      <td>2</td>\n",
       "      <td>{'rings': [[[-96.837065312256, 47.240458880637...</td>\n",
       "    </tr>\n",
       "    <tr>\n",
       "      <th>38099</th>\n",
       "      <td>3</td>\n",
       "      <td>{'rings': [[[-97.9024788956788, 48.19600511024...</td>\n",
       "    </tr>\n",
       "    <tr>\n",
       "      <th>02016</th>\n",
       "      <td>4</td>\n",
       "      <td>{'rings': [[[-166.6452193889, 53.5227418959434...</td>\n",
       "    </tr>\n",
       "    <tr>\n",
       "      <th>38101</th>\n",
       "      <td>5</td>\n",
       "      <td>{'rings': [[[-100.964705704084, 47.85409181884...</td>\n",
       "    </tr>\n",
       "  </tbody>\n",
       "</table>\n",
       "</div>"
      ],
      "text/plain": [
       "       FID                                              SHAPE\n",
       "FIPS                                                         \n",
       "02013    1  {'rings': [[[-158.798407913421, 56.80097191520...\n",
       "38097    2  {'rings': [[[-96.837065312256, 47.240458880637...\n",
       "38099    3  {'rings': [[[-97.9024788956788, 48.19600511024...\n",
       "02016    4  {'rings': [[[-166.6452193889, 53.5227418959434...\n",
       "38101    5  {'rings': [[[-100.964705704084, 47.85409181884..."
      ]
     },
     "execution_count": 13,
     "metadata": {},
     "output_type": "execute_result"
    }
   ],
   "source": [
    "cty_df.head()"
   ]
  },
  {
   "cell_type": "code",
   "execution_count": null,
   "metadata": {},
   "outputs": [],
   "source": []
  }
 ],
 "metadata": {
  "kernelspec": {
   "display_name": "Python 3",
   "language": "python",
   "name": "python3"
  },
  "language_info": {
   "codemirror_mode": {
    "name": "ipython",
    "version": 3
   },
   "file_extension": ".py",
   "mimetype": "text/x-python",
   "name": "python",
   "nbconvert_exporter": "python",
   "pygments_lexer": "ipython3",
   "version": "3.6.9"
  }
 },
 "nbformat": 4,
 "nbformat_minor": 4
}
