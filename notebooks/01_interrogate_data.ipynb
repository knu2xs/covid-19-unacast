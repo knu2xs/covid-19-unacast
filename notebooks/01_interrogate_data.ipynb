{
 "cells": [
  {
   "cell_type": "code",
   "execution_count": 2,
   "metadata": {},
   "outputs": [],
   "source": [
    "import importlib\n",
    "import os\n",
    "from pathlib import Path\n",
    "import sys\n",
    "\n",
    "from arcgis.features import GeoAccessor, GeoSeriesAccessor\n",
    "from arcgis.gis import GIS\n",
    "from dotenv import load_dotenv, find_dotenv\n",
    "import janitor\n",
    "import pandas as pd\n",
    "\n",
    "# import arcpy if available\n",
    "if importlib.util.find_spec(\"arcpy\") is not None:\n",
    "    import arcpy\n",
    "    \n",
    "# load environment variables from .env\n",
    "load_dotenv(find_dotenv())\n",
    "\n",
    "# create a GIS object instance; if you did not enter any information here, it defaults to anonymous access to ArcGIS Online\n",
    "gis = GIS(\n",
    "    url=os.getenv('ESRI_GIS_URL'), \n",
    "    username=os.getenv('ESRI_GIS_USERNAME'),\n",
    "    password=os.getenv('ESRI_GIS_PASSWORD')\n",
    ")\n",
    "\n",
    "# paths to common data locations - NOTE: to convert any path to a raw string, simply use str(path_instance)\n",
    "project_parent = Path('./').absolute().parent\n",
    "\n",
    "data_dir = project_parent/'data'\n",
    "\n",
    "data_raw = data_dir/'raw'\n",
    "data_ext = data_dir/'external'\n",
    "data_int = data_dir/'interim'\n",
    "data_out = data_dir/'processed'\n",
    "\n",
    "gdb_raw = data_raw/'raw.gdb'\n",
    "gdb_int = data_int/'interim.gdb'\n",
    "gdb_out = data_out/'processed.gdb'\n",
    "\n",
    "# import the project package from the project package path\n",
    "sys.path.append(str(project_parent/'src'))\n",
    "import unacast\n",
    "\n",
    "# load the \"autoreload\" extension so that code can change, & always reload modules so that as you change code in src, it gets loaded\n",
    "%load_ext autoreload\n",
    "%autoreload 2"
   ]
  },
  {
   "cell_type": "code",
   "execution_count": 3,
   "metadata": {},
   "outputs": [],
   "source": [
    "county_fc_pth = gdb_int/'county_gen4'\n",
    "unacast_csv_pth = data_raw/'covid_sds_full_2020-03-27.csv'\n",
    "itm_id = '7566e0221e5646f99ea249a197116605'"
   ]
  },
  {
   "cell_type": "code",
   "execution_count": 14,
   "metadata": {},
   "outputs": [],
   "source": [
    "# def get_county_geometry_series(county_fc_pth):\n",
    "#     county_fc_pth = str(county_fc_pth) if isinstance(county_fc_pth, Path) else county_fc_pth\n",
    "#     county_df = GeoAccessor.from_featureclass(county_fc_pth)\n",
    "#     county_df.rename(columns={'ID': 'FIPS'}, inplace=True)\n",
    "#     county_df = county_df[['FIPS', 'SHAPE']].copy()\n",
    "#     geom_srs = county_df.set_index('FIPS')['SHAPE']\n",
    "#     return geom_srs\n",
    "\n",
    "def get_county_geometry_series():\n",
    "    cty_lyr = gis.content.get(itm_id).layers[0]\n",
    "    cty_df = cty_lyr.query(out_fields=['FIPS'], out_sr=4326, as_df=True)\n",
    "    cty_df.set_index(['FIPS'], inplace=True)\n",
    "    cty_srs = cty_df['SHAPE']\n",
    "    return cty_srs\n",
    "    \n",
    "\n",
    "def load_unacast_csv(unacast_csv_path, existing_data_end_date=None):\n",
    "    una_df = pd.read_csv(unacast_csv_pth).clean_names()\n",
    "    una_df.county_fips = una_df.county_fips.astype(str).str.zfill(5)\n",
    "    una_df.last_updated = pd.to_datetime(una_df.last_updated)\n",
    "    una_df.localeventdate = pd.to_datetime(una_df.localeventdate)\n",
    "    una_df.drop(columns=['county_centroid'], inplace=True)\n",
    "    if existing_data_end_date:\n",
    "        una_df = una_df[una_df['localeventdate'] > existing_data_end_date].copy()\n",
    "    return una_df\n",
    "\n",
    "def create_update_dataframe(county_fc_pth, unacast_csv_path, existing_data_end_date=None):\n",
    "    county_srs = get_county_geometry_series()\n",
    "    una_df = load_unacast_csv(unacast_csv_pth, existing_data_end_date)\n",
    "    full_df = una_df.join(county_srs, on='county_fips')\n",
    "    return full_df"
   ]
  },
  {
   "cell_type": "code",
   "execution_count": 15,
   "metadata": {},
   "outputs": [
    {
     "data": {
      "text/html": [
       "<div>\n",
       "<style scoped>\n",
       "    .dataframe tbody tr th:only-of-type {\n",
       "        vertical-align: middle;\n",
       "    }\n",
       "\n",
       "    .dataframe tbody tr th {\n",
       "        vertical-align: top;\n",
       "    }\n",
       "\n",
       "    .dataframe thead th {\n",
       "        text-align: right;\n",
       "    }\n",
       "</style>\n",
       "<table border=\"1\" class=\"dataframe\">\n",
       "  <thead>\n",
       "    <tr style=\"text-align: right;\">\n",
       "      <th></th>\n",
       "      <th>localeventdate</th>\n",
       "      <th>weekday</th>\n",
       "      <th>county_fips</th>\n",
       "      <th>county_name</th>\n",
       "      <th>state_fips</th>\n",
       "      <th>state_name</th>\n",
       "      <th>state_code</th>\n",
       "      <th>grade</th>\n",
       "      <th>n_grade</th>\n",
       "      <th>covid</th>\n",
       "      <th>daily_distance_diff</th>\n",
       "      <th>county_population</th>\n",
       "      <th>last_updated</th>\n",
       "      <th>SHAPE</th>\n",
       "    </tr>\n",
       "  </thead>\n",
       "  <tbody>\n",
       "    <tr>\n",
       "      <th>0</th>\n",
       "      <td>2020-02-24</td>\n",
       "      <td>2</td>\n",
       "      <td>01001</td>\n",
       "      <td>Autauga</td>\n",
       "      <td>1</td>\n",
       "      <td>Alabama</td>\n",
       "      <td>AL</td>\n",
       "      <td>F</td>\n",
       "      <td>1</td>\n",
       "      <td>PRE</td>\n",
       "      <td>-0.042038</td>\n",
       "      <td>55601</td>\n",
       "      <td>2020-03-27 15:24:40.826361+00:00</td>\n",
       "      <td>{'rings': [[[-86.8206698922349, 32.34730961636...</td>\n",
       "    </tr>\n",
       "    <tr>\n",
       "      <th>1</th>\n",
       "      <td>2020-02-28</td>\n",
       "      <td>6</td>\n",
       "      <td>01001</td>\n",
       "      <td>Autauga</td>\n",
       "      <td>1</td>\n",
       "      <td>Alabama</td>\n",
       "      <td>AL</td>\n",
       "      <td>F</td>\n",
       "      <td>1</td>\n",
       "      <td>PRE</td>\n",
       "      <td>0.017410</td>\n",
       "      <td>55601</td>\n",
       "      <td>2020-03-27 15:24:40.826361+00:00</td>\n",
       "      <td>{'rings': [[[-86.8206698922349, 32.34730961636...</td>\n",
       "    </tr>\n",
       "    <tr>\n",
       "      <th>2</th>\n",
       "      <td>2020-03-06</td>\n",
       "      <td>6</td>\n",
       "      <td>01001</td>\n",
       "      <td>Autauga</td>\n",
       "      <td>1</td>\n",
       "      <td>Alabama</td>\n",
       "      <td>AL</td>\n",
       "      <td>F</td>\n",
       "      <td>1</td>\n",
       "      <td>PRE</td>\n",
       "      <td>0.021396</td>\n",
       "      <td>55601</td>\n",
       "      <td>2020-03-27 15:24:40.826361+00:00</td>\n",
       "      <td>{'rings': [[[-86.8206698922349, 32.34730961636...</td>\n",
       "    </tr>\n",
       "    <tr>\n",
       "      <th>3</th>\n",
       "      <td>2020-03-09</td>\n",
       "      <td>2</td>\n",
       "      <td>01001</td>\n",
       "      <td>Autauga</td>\n",
       "      <td>1</td>\n",
       "      <td>Alabama</td>\n",
       "      <td>AL</td>\n",
       "      <td>F</td>\n",
       "      <td>1</td>\n",
       "      <td>POST</td>\n",
       "      <td>-0.018811</td>\n",
       "      <td>55601</td>\n",
       "      <td>2020-03-27 15:24:40.826361+00:00</td>\n",
       "      <td>{'rings': [[[-86.8206698922349, 32.34730961636...</td>\n",
       "    </tr>\n",
       "    <tr>\n",
       "      <th>4</th>\n",
       "      <td>2020-03-02</td>\n",
       "      <td>2</td>\n",
       "      <td>01001</td>\n",
       "      <td>Autauga</td>\n",
       "      <td>1</td>\n",
       "      <td>Alabama</td>\n",
       "      <td>AL</td>\n",
       "      <td>F</td>\n",
       "      <td>1</td>\n",
       "      <td>PRE</td>\n",
       "      <td>-0.030956</td>\n",
       "      <td>55601</td>\n",
       "      <td>2020-03-27 15:24:40.826361+00:00</td>\n",
       "      <td>{'rings': [[[-86.8206698922349, 32.34730961636...</td>\n",
       "    </tr>\n",
       "  </tbody>\n",
       "</table>\n",
       "</div>"
      ],
      "text/plain": [
       "  localeventdate  weekday county_fips county_name  state_fips state_name  \\\n",
       "0     2020-02-24        2       01001    Autauga            1    Alabama   \n",
       "1     2020-02-28        6       01001    Autauga            1    Alabama   \n",
       "2     2020-03-06        6       01001    Autauga            1    Alabama   \n",
       "3     2020-03-09        2       01001    Autauga            1    Alabama   \n",
       "4     2020-03-02        2       01001    Autauga            1    Alabama   \n",
       "\n",
       "  state_code grade  n_grade covid  daily_distance_diff  county_population  \\\n",
       "0         AL     F        1   PRE            -0.042038              55601   \n",
       "1         AL     F        1   PRE             0.017410              55601   \n",
       "2         AL     F        1   PRE             0.021396              55601   \n",
       "3         AL     F        1  POST            -0.018811              55601   \n",
       "4         AL     F        1   PRE            -0.030956              55601   \n",
       "\n",
       "                      last_updated  \\\n",
       "0 2020-03-27 15:24:40.826361+00:00   \n",
       "1 2020-03-27 15:24:40.826361+00:00   \n",
       "2 2020-03-27 15:24:40.826361+00:00   \n",
       "3 2020-03-27 15:24:40.826361+00:00   \n",
       "4 2020-03-27 15:24:40.826361+00:00   \n",
       "\n",
       "                                               SHAPE  \n",
       "0  {'rings': [[[-86.8206698922349, 32.34730961636...  \n",
       "1  {'rings': [[[-86.8206698922349, 32.34730961636...  \n",
       "2  {'rings': [[[-86.8206698922349, 32.34730961636...  \n",
       "3  {'rings': [[[-86.8206698922349, 32.34730961636...  \n",
       "4  {'rings': [[[-86.8206698922349, 32.34730961636...  "
      ]
     },
     "execution_count": 15,
     "metadata": {},
     "output_type": "execute_result"
    }
   ],
   "source": [
    "full_df = create_update_dataframe(county_fc_pth, unacast_csv_pth)\n",
    "full_df.head()"
   ]
  },
  {
   "cell_type": "code",
   "execution_count": 16,
   "metadata": {},
   "outputs": [
    {
     "name": "stderr",
     "output_type": "stream",
     "text": [
      "C:\\Program Files\\ArcGIS\\Pro\\bin\\Python\\envs\\arcgis\\lib\\site-packages\\pandas\\core\\indexing.py:966: SettingWithCopyWarning: \n",
      "A value is trying to be set on a copy of a slice from a DataFrame.\n",
      "Try using .loc[row_indexer,col_indexer] = value instead\n",
      "\n",
      "See the caveats in the documentation: https://pandas.pydata.org/pandas-docs/stable/user_guide/indexing.html#returning-a-view-versus-a-copy\n",
      "  self.obj[item] = s\n",
      "C:\\Program Files\\ArcGIS\\Pro\\bin\\Python\\envs\\arcgis\\lib\\site-packages\\arcgis\\features\\geo\\_accessor.py:1048: SettingWithCopyWarning: \n",
      "A value is trying to be set on a copy of a slice from a DataFrame.\n",
      "Try using .loc[row_indexer,col_indexer] = value instead\n",
      "\n",
      "See the caveats in the documentation: https://pandas.pydata.org/pandas-docs/stable/user_guide/indexing.html#returning-a-view-versus-a-copy\n",
      "  self._data[col] = GeoArray(self._data[col])\n",
      "C:\\Program Files\\ArcGIS\\Pro\\bin\\Python\\envs\\arcgis\\lib\\site-packages\\arcgis\\features\\geo\\_accessor.py:2335: SettingWithCopyWarning: \n",
      "A value is trying to be set on a copy of a slice from a DataFrame.\n",
      "Try using .loc[row_indexer,col_indexer] = value instead\n",
      "\n",
      "See the caveats in the documentation: https://pandas.pydata.org/pandas-docs/stable/user_guide/indexing.html#returning-a-view-versus-a-copy\n",
      "  self._data['OBJECTID'] = list(range(1, self._data.shape[0] + 1))\n"
     ]
    },
    {
     "data": {
      "application/vnd.jupyter.widget-view+json": {
       "model_id": "7d35ba43d7754072b1241b6b0e4dc976",
       "version_major": 2,
       "version_minor": 0
      },
      "text/plain": [
       "MapView(layout=Layout(height='400px', width='100%'))"
      ]
     },
     "metadata": {},
     "output_type": "display_data"
    },
    {
     "data": {
      "text/html": [
       "<div class=\"map-static-img-preview-80eae556-2798-4756-b58e-8da1e2c0ff2b\"><img src=\"\"></img></div>"
      ],
      "text/plain": [
       "<IPython.core.display.HTML object>"
      ]
     },
     "metadata": {},
     "output_type": "display_data"
    }
   ],
   "source": [
    "full_df.iloc[:100].spatial.plot(gis=GIS())"
   ]
  },
  {
   "cell_type": "code",
   "execution_count": 17,
   "metadata": {},
   "outputs": [
    {
     "data": {
      "text/plain": [
       "'D:\\\\projects\\\\covid-19-unacast\\\\data\\\\interim\\\\interim.gdb\\\\unacast'"
      ]
     },
     "execution_count": 17,
     "metadata": {},
     "output_type": "execute_result"
    }
   ],
   "source": [
    "full_df.spatial.to_featureclass(str(gdb_int/'unacast'))"
   ]
  },
  {
   "cell_type": "code",
   "execution_count": null,
   "metadata": {},
   "outputs": [],
   "source": []
  }
 ],
 "metadata": {
  "kernelspec": {
   "display_name": "Python 3",
   "language": "python",
   "name": "python3"
  },
  "language_info": {
   "codemirror_mode": {
    "name": "ipython",
    "version": 3
   },
   "file_extension": ".py",
   "mimetype": "text/x-python",
   "name": "python",
   "nbconvert_exporter": "python",
   "pygments_lexer": "ipython3",
   "version": "3.6.9"
  }
 },
 "nbformat": 4,
 "nbformat_minor": 4
}
